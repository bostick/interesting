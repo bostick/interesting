{
 "metadata": {
  "celltoolbar": "Raw Cell Format",
  "name": "",
  "signature": "sha256:d0ac1d934b06dfb1d78d28135c16f0216dbc26ee7cae0471b7dce75c421fa0b6"
 },
 "nbformat": 3,
 "nbformat_minor": 0,
 "worksheets": [
  {
   "cells": [
    {
     "cell_type": "markdown",
     "metadata": {},
     "source": [
      "An interesting function\n",
      "====\n",
      "\n",
      "<p style=\"text-align: right\"><i>Brenton Bostick, October 2014</i></p>"
     ]
    },
    {
     "cell_type": "markdown",
     "metadata": {},
     "source": [
      "A basic question about iterative application of simple rules is whether that process will eventually terminate. This question is of fundamental importance to computer science because of its role in proving correctness of computer programs. To be shown correct, a program must first be proven to terminate. The general question of program termination is known as the [Halting Problem](http://en.wikipedia.org/wiki/Halting_problem) and Alan Turing showed that the Halting Problem is undecidable. Lots of programs are easy to show terminating or infinitely looping, but there will always be other programs that are not possible to prove one way or the other. This may be a depressing result for some people, but I see it as a kind of job security for researchers. There will always be more work to do!\n",
      "\n",
      "The simplest questions to ask about termination involve number theoretic functions, i.e., functions on the natural numbers using only common arithmetic operators like addition and multiplication.\n",
      "\n",
      "Even within this restricted domain there are deep questions yet to be answered. The [Collatz conjecture](http://en.wikipedia.org/wiki/Collatz_conjecture) is perhaps the greatest unsolved question about termination of number theoretic functions. A simple generalization of Collatz by John Conway called [FRACTRAN](http://en.wikipedia.org/wiki/FRACTRAN) is undecidable.\n",
      "\n",
      "I have been interested in the termination behavior of simple functions since learning of the celebrated (and unsolved) Collatz problem nearly 15 years ago. The idea of studying the application of simple rules to generate complex behavior led to my attending the first [NKS Summer School](https://www.wolframscience.com/summerschool/) hosted by Wolfram Research in 2003 where many of the sessions involved exploring number theoretic functions.\n",
      "\n",
      "In the course of writing my Master's thesis on termination of term rewrite systems, I discovered the function that is the subject of this notebook.\n",
      "\n",
      "Define the function $$M : \\mathbb{N} \\longrightarrow \\mathbb{N} \\\\M(n) = \\frac{(gpf(n)-1)!}{gpf(n)}n \\text{ where $gpf(n)$ is the greatest prime factor of n }$$\n",
      "\n",
      "For example, $$M(11) = \\frac{(11-1)!}{11}11 = 10! = 3628800$$\n",
      "\n",
      "and $$M(12) = \\frac{(3-1)!}{3}12 = 8$$\n",
      "\n",
      "We will investigate this function."
     ]
    },
    {
     "cell_type": "code",
     "collapsed": false,
     "input": [
      "# import needed functions\n",
      "from sympy import factorial\n",
      "from sympy.ntheory import factorint\n",
      "from math import log\n",
      "import matplotlib.pyplot as plt\n",
      "import numpy as np\n",
      "import pandas as pd\n",
      "\n",
      "%matplotlib inline\n",
      "\n",
      "def factori(n):\n",
      "    \"Factor an integer, and also handle 1.\"\n",
      "    if n == 1:\n",
      "        return {1:1}\n",
      "    else:\n",
      "        return factorint(n)\n",
      "\n",
      "def gpp(n):\n",
      "    \"Return the greatest prime power, as a tuple of the prime and its exponent.\"\n",
      "    if n == 1:\n",
      "        return (1, 1)\n",
      "    else:\n",
      "        factors = factori(n);\n",
      "        last = sorted(factors.keys())[-1];\n",
      "        return (last, factors[last])\n",
      "    \n",
      "def gpf(n):\n",
      "    \"Return the greatest prime factor\"\n",
      "    return gpp(n)[0]\n",
      "\n",
      "def M(n):\n",
      "    \"Interesting function\"\n",
      "    g = gpf(n)\n",
      "    return factorial(g - 1) * n / g"
     ],
     "language": "python",
     "metadata": {},
     "outputs": [],
     "prompt_number": 1
    },
    {
     "cell_type": "code",
     "collapsed": false,
     "input": [
      "# turn off pretty printing\n",
      "%pprint"
     ],
     "language": "python",
     "metadata": {},
     "outputs": [
      {
       "output_type": "stream",
       "stream": "stdout",
       "text": [
        "Pretty printing has been turned OFF\n"
       ]
      }
     ],
     "prompt_number": 2
    },
    {
     "cell_type": "markdown",
     "metadata": {},
     "source": [
      "Here are some examples of M. Its value varies wildly from one number to the next."
     ]
    },
    {
     "cell_type": "code",
     "collapsed": false,
     "input": [
      "M(11)"
     ],
     "language": "python",
     "metadata": {},
     "outputs": [
      {
       "metadata": {},
       "output_type": "pyout",
       "prompt_number": 3,
       "text": [
        "3628800"
       ]
      }
     ],
     "prompt_number": 3
    },
    {
     "cell_type": "code",
     "collapsed": false,
     "input": [
      "M(12)"
     ],
     "language": "python",
     "metadata": {},
     "outputs": [
      {
       "metadata": {},
       "output_type": "pyout",
       "prompt_number": 4,
       "text": [
        "8"
       ]
      }
     ],
     "prompt_number": 4
    },
    {
     "cell_type": "code",
     "collapsed": false,
     "input": [
      "M(13)"
     ],
     "language": "python",
     "metadata": {},
     "outputs": [
      {
       "metadata": {},
       "output_type": "pyout",
       "prompt_number": 5,
       "text": [
        "479001600"
       ]
      }
     ],
     "prompt_number": 5
    },
    {
     "cell_type": "markdown",
     "metadata": {},
     "source": [
      "For prime n it seems that M(n) is large and with composite n that M(n) is small.\n",
      "\n",
      "What happens when M is iterated?"
     ]
    },
    {
     "cell_type": "code",
     "collapsed": false,
     "input": [
      "def M_nest(n, i):\n",
      "    \"Sequence of i iterations of M, starting with n.\"\n",
      "    if i == 0:\n",
      "        return [n]\n",
      "    else:\n",
      "        prev = M_nest(n, i-1)\n",
      "        return prev + [M(prev[-1])]"
     ],
     "language": "python",
     "metadata": {},
     "outputs": [],
     "prompt_number": 6
    },
    {
     "cell_type": "code",
     "collapsed": false,
     "input": [
      "M_nest(12, 4)"
     ],
     "language": "python",
     "metadata": {},
     "outputs": [
      {
       "metadata": {},
       "output_type": "pyout",
       "prompt_number": 7,
       "text": [
        "[12, 8, 4, 2, 1]"
       ]
      }
     ],
     "prompt_number": 7
    },
    {
     "cell_type": "markdown",
     "metadata": {},
     "source": [
      "1 is a fixed point of M, i.e., M(1) = 1, so once 1 is reached, it will stay there."
     ]
    },
    {
     "cell_type": "code",
     "collapsed": false,
     "input": [
      "M_nest(13, 4)"
     ],
     "language": "python",
     "metadata": {},
     "outputs": [
      {
       "metadata": {},
       "output_type": "pyout",
       "prompt_number": 8,
       "text": [
        "[13, 479001600, 158018273280000, 16253308108800000, 1671768834048000000]"
       ]
      }
     ],
     "prompt_number": 8
    },
    {
     "cell_type": "markdown",
     "metadata": {},
     "source": [
      "For some starting values, M seems to grow forever and for other values, M converges to 1.\n",
      "\n",
      "When does M converge or diverge?\n",
      "\n",
      "An informal survey of peers indicated that 50% of respondents believe that all iterations diverge to infinity and 50% believe that ultimate behavior depends on the greatest prime factor, i.e., a large gpf implies divergence while a small gpf implies convergence to 1, though a bound on \"large\" and \"small\" was not given."
     ]
    },
    {
     "cell_type": "markdown",
     "metadata": {},
     "source": [
      "Ultimate behavior\n",
      "----"
     ]
    },
    {
     "cell_type": "markdown",
     "metadata": {},
     "source": [
      "Perhaps surprisingly, the behavior of all M sequences is known.\n",
      "\n",
      "Theorem: For all n, there is a k such that M<sup>k</sup>(n) = 1.\n",
      "\n",
      "No matter how large the values are, they always eventually iterate to 1.\n",
      "\n",
      "This can be seen by iterating our last example a little longer:"
     ]
    },
    {
     "cell_type": "code",
     "collapsed": false,
     "input": [
      "M_nest(13, 92)"
     ],
     "language": "python",
     "metadata": {},
     "outputs": [
      {
       "metadata": {},
       "output_type": "pyout",
       "prompt_number": 9,
       "text": [
        "[13, 479001600, 158018273280000, 16253308108800000, 1671768834048000000, 8024490403430400000, 38517553936465920000, 184884258895036416000, 887444442696174796800, 4259733324941639024640, 20446719959719867318272, 13631146639813244878848, 9087431093208829919232, 6058287395472553279488, 4038858263648368852992, 2692572175765579235328, 1795048117177052823552, 1196698744784701882368, 797799163189801254912, 531866108793200836608, 354577405862133891072, 236384937241422594048, 157589958160948396032, 105059972107298930688, 70039981404865953792, 46693320936577302528, 31128880624384868352, 20752587082923245568, 13835058055282163712, 9223372036854775808, 4611686018427387904, 2305843009213693952, 1152921504606846976, 576460752303423488, 288230376151711744, 144115188075855872, 72057594037927936, 36028797018963968, 18014398509481984, 9007199254740992, 4503599627370496, 2251799813685248, 1125899906842624, 562949953421312, 281474976710656, 140737488355328, 70368744177664, 35184372088832, 17592186044416, 8796093022208, 4398046511104, 2199023255552, 1099511627776, 549755813888, 274877906944, 137438953472, 68719476736, 34359738368, 17179869184, 8589934592, 4294967296, 2147483648, 1073741824, 536870912, 268435456, 134217728, 67108864, 33554432, 16777216, 8388608, 4194304, 2097152, 1048576, 524288, 262144, 131072, 65536, 32768, 16384, 8192, 4096, 2048, 1024, 512, 256, 128, 64, 32, 16, 8, 4, 2, 1]"
       ]
      }
     ],
     "prompt_number": 9
    },
    {
     "cell_type": "markdown",
     "metadata": {},
     "source": [
      "The sequence can be plotted on a logarithmic scale for better illustration."
     ]
    },
    {
     "cell_type": "code",
     "collapsed": false,
     "input": [
      "seq = pd.Series(map(log, _))\n",
      "seq.plot();"
     ],
     "language": "python",
     "metadata": {},
     "outputs": [
      {
       "metadata": {},
       "output_type": "display_data",
       "png": "[encoded data removed]",
       "text": [
        "<matplotlib.figure.Figure object at 0x000000000391EB38>"
       ]
      }
     ],
     "prompt_number": 10
    },
    {
     "cell_type": "markdown",
     "metadata": {},
     "source": [
      "Iterating M starting with 13 takes 92 steps to reach 1 after reaching a maximum of 20446719959719867318272.\n",
      "\n",
      "So why do all M sequences terminate at 1?\n",
      "\n",
      "An intuitive explanation is that at each step the largest prime power is decreased. And since that decreasing can not go on forever, it must eventually stop. \n",
      "\n",
      "Displaying the greatest prime powers of our example shows the process."
     ]
    },
    {
     "cell_type": "code",
     "collapsed": false,
     "input": [
      "map(gpp, _)"
     ],
     "language": "python",
     "metadata": {},
     "outputs": [
      {
       "metadata": {},
       "output_type": "pyout",
       "prompt_number": 11,
       "text": [
        "[(13, 1), (11, 1), (7, 2), (7, 1), (5, 6), (5, 5), (5, 4), (5, 3), (5, 2), (5, 1), (3, 19), (3, 18), (3, 17), (3, 16), (3, 15), (3, 14), (3, 13), (3, 12), (3, 11), (3, 10), (3, 9), (3, 8), (3, 7), (3, 6), (3, 5), (3, 4), (3, 3), (3, 2), (3, 1), (2, 63), (2, 62), (2, 61), (2, 60), (2, 59), (2, 58), (2, 57), (2, 56), (2, 55), (2, 54), (2, 53), (2, 52), (2, 51), (2, 50), (2, 49), (2, 48), (2, 47), (2, 46), (2, 45), (2, 44), (2, 43), (2, 42), (2, 41), (2, 40), (2, 39), (2, 38), (2, 37), (2, 36), (2, 35), (2, 34), (2, 33), (2, 32), (2, 31), (2, 30), (2, 29), (2, 28), (2, 27), (2, 26), (2, 25), (2, 24), (2, 23), (2, 22), (2, 21), (2, 20), (2, 19), (2, 18), (2, 17), (2, 16), (2, 15), (2, 14), (2, 13), (2, 12), (2, 11), (2, 10), (2, 9), (2, 8), (2, 7), (2, 6), (2, 5), (2, 4), (2, 3), (2, 2), (2, 1), (1, 1)]"
       ]
      }
     ],
     "prompt_number": 11
    },
    {
     "cell_type": "markdown",
     "metadata": {},
     "source": [
      "At each step, either the first element decreases or the second element decreases, i.e., the greatest prime powers of iterations of M are [lexicographically ordered](http://en.wikipedia.org/wiki/Lexicographical_order) and hence are [well-ordered](http://en.wikipedia.org/wiki/Well-order).\n",
      "\n",
      "Since we know that M sequences terminate, we can define a function to return the entire sequence."
     ]
    },
    {
     "cell_type": "code",
     "collapsed": false,
     "input": [
      "def M_sequence(n):\n",
      "    seq = [n]\n",
      "    while n != 1:\n",
      "        n = M(n)\n",
      "        seq.append(n)\n",
      "    return seq"
     ],
     "language": "python",
     "metadata": {},
     "outputs": [],
     "prompt_number": 12
    },
    {
     "cell_type": "code",
     "collapsed": false,
     "input": [
      "M_sequence(13)"
     ],
     "language": "python",
     "metadata": {},
     "outputs": [
      {
       "metadata": {},
       "output_type": "pyout",
       "prompt_number": 13,
       "text": [
        "[13, 479001600, 158018273280000, 16253308108800000, 1671768834048000000, 8024490403430400000, 38517553936465920000, 184884258895036416000, 887444442696174796800, 4259733324941639024640, 20446719959719867318272, 13631146639813244878848, 9087431093208829919232, 6058287395472553279488, 4038858263648368852992, 2692572175765579235328, 1795048117177052823552, 1196698744784701882368, 797799163189801254912, 531866108793200836608, 354577405862133891072, 236384937241422594048, 157589958160948396032, 105059972107298930688, 70039981404865953792, 46693320936577302528, 31128880624384868352, 20752587082923245568, 13835058055282163712, 9223372036854775808, 4611686018427387904, 2305843009213693952, 1152921504606846976, 576460752303423488, 288230376151711744, 144115188075855872, 72057594037927936, 36028797018963968, 18014398509481984, 9007199254740992, 4503599627370496, 2251799813685248, 1125899906842624, 562949953421312, 281474976710656, 140737488355328, 70368744177664, 35184372088832, 17592186044416, 8796093022208, 4398046511104, 2199023255552, 1099511627776, 549755813888, 274877906944, 137438953472, 68719476736, 34359738368, 17179869184, 8589934592, 4294967296, 2147483648, 1073741824, 536870912, 268435456, 134217728, 67108864, 33554432, 16777216, 8388608, 4194304, 2097152, 1048576, 524288, 262144, 131072, 65536, 32768, 16384, 8192, 4096, 2048, 1024, 512, 256, 128, 64, 32, 16, 8, 4, 2, 1]"
       ]
      }
     ],
     "prompt_number": 13
    },
    {
     "cell_type": "code",
     "collapsed": false,
     "input": [
      "M_sequence(13) == M_nest(13, 92)"
     ],
     "language": "python",
     "metadata": {},
     "outputs": [
      {
       "metadata": {},
       "output_type": "pyout",
       "prompt_number": 14,
       "text": [
        "True"
       ]
      }
     ],
     "prompt_number": 14
    },
    {
     "cell_type": "markdown",
     "metadata": {},
     "source": [
      "Plotting the sequence lengths for all numbers 50 and below shows the variability in lengths. Going much higher than 50 is not feasible because of the rapid growth of sequence lengths."
     ]
    },
    {
     "cell_type": "code",
     "collapsed": false,
     "input": [
      "%time sequenceLengths = map(lambda n: len(M_sequence(n)), range(1, 50+1))"
     ],
     "language": "python",
     "metadata": {},
     "outputs": [
      {
       "output_type": "stream",
       "stream": "stdout",
       "text": [
        "Wall time: 2min 40s\n"
       ]
      }
     ],
     "prompt_number": 15
    },
    {
     "cell_type": "code",
     "collapsed": false,
     "input": [
      "pd.Series(sequenceLengths).plot();"
     ],
     "language": "python",
     "metadata": {},
     "outputs": [
      {
       "metadata": {},
       "output_type": "display_data",
       "png": "[encoded data removed]",
       "text": [
        "<matplotlib.figure.Figure object at 0x000000000CCC7048>"
       ]
      }
     ],
     "prompt_number": 16
    },
    {
     "cell_type": "markdown",
     "metadata": {},
     "source": [
      "Primes are responsible for the longest sequence lengths. The spikes in the above plot are from prime starting values. Primes are responsible for the longest sequences because they contribute the most to the initial factorial at the first function application."
     ]
    },
    {
     "cell_type": "markdown",
     "metadata": {},
     "source": [
      "Summary\n",
      "----\n",
      "\n",
      "A function was presented that seems like it grows forever, but actually terminates at 1 for all starting values."
     ]
    }
   ],
   "metadata": {}
  }
 ]
}